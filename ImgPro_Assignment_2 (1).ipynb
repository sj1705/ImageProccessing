{
 "cells": [
  {
   "cell_type": "code",
   "execution_count": 2,
   "metadata": {
    "id": "C5LIZ0CheiS8",
    "pycharm": {
     "is_executing": true
    }
   },
   "outputs": [
    {
     "ename": "ModuleNotFoundError",
     "evalue": "No module named 'matplotlib'",
     "output_type": "error",
     "traceback": [
      "\u001B[1;31m---------------------------------------------------------------------------\u001B[0m",
      "\u001B[1;31mModuleNotFoundError\u001B[0m                       Traceback (most recent call last)",
      "Cell \u001B[1;32mIn [2], line 3\u001B[0m\n\u001B[0;32m      1\u001B[0m \u001B[39mimport\u001B[39;00m \u001B[39mcv2\u001B[39;00m\n\u001B[0;32m      2\u001B[0m \u001B[39mimport\u001B[39;00m \u001B[39mnumpy\u001B[39;00m \u001B[39mas\u001B[39;00m \u001B[39mnp\u001B[39;00m\n\u001B[1;32m----> 3\u001B[0m \u001B[39mfrom\u001B[39;00m \u001B[39mmatplotlib\u001B[39;00m \u001B[39mimport\u001B[39;00m pyplot \u001B[39mas\u001B[39;00m plt\n\u001B[0;32m      4\u001B[0m figsize \u001B[39m=\u001B[39m (\u001B[39m10\u001B[39m, \u001B[39m10\u001B[39m)\n",
      "\u001B[1;31mModuleNotFoundError\u001B[0m: No module named 'matplotlib'"
     ]
    }
   ],
   "source": [
    "import cv2\n",
    "import numpy as np\n",
    "from matplotlib import pyplot as plt\n",
    "figsize = (10, 10)"
   ]
  },
  {
   "cell_type": "code",
   "execution_count": null,
   "metadata": {
    "colab": {
     "base_uri": "https://localhost:8080/",
     "height": 281
    },
    "id": "BIguxFpYfVWQ",
    "outputId": "651b9a23-269c-49b0-c01c-00b5c0e6d22c",
    "pycharm": {
     "is_executing": true
    }
   },
   "outputs": [],
   "source": [
    "img = cv2.imread('Shrestha.jpg')\n",
    "img = cv2.cvtColor(img, cv2.COLOR_BGR2RGB)\n",
    "plt.imshow(img)\n",
    "plt.title(\"original image\")\n",
    "plt.show()"
   ]
  },
  {
   "cell_type": "markdown",
   "metadata": {
    "id": "5OPTz0X6jXK3"
   },
   "source": [
    "# **Noise addition func.**"
   ]
  },
  {
   "cell_type": "code",
   "execution_count": null,
   "metadata": {
    "id": "7tbx5INgfVbK"
   },
   "outputs": [],
   "source": [
    "def gauss_noise(image, gauss_var=1000):\n",
    "    mean = 0\n",
    "    sigma = gauss_var ** 0.5\n",
    "    gauss = np.random.normal(mean, sigma, image.shape)\n",
    "\n",
    "    res = image + gauss\n",
    "    noisy = np.clip(res, 0, 255).astype(np.uint8)\n",
    "    return noisy\n",
    "\n",
    "\n",
    "def s_and_p_noise(image, s_p_ratio=0.04):\n",
    "    # this implementation is not entirely correct because it assumes that\n",
    "    # only 0 OR 255 values are S&P noise.\n",
    "    out = np.copy(image)\n",
    "\n",
    "    # Salt mode\n",
    "    mask = np.random.rand(image.shape[0], image.shape[1]) <= s_p_ratio / 2\n",
    "    out[mask] = 255\n",
    "\n",
    "    # Pepper mode\n",
    "    mask = np.random.rand(image.shape[0], image.shape[1]) <= s_p_ratio / 2\n",
    "    out[mask] = 0\n",
    "    return out"
   ]
  },
  {
   "cell_type": "markdown",
   "metadata": {
    "id": "t1igotCYjfob"
   },
   "source": [
    "**Gaussian noise tests**"
   ]
  },
  {
   "cell_type": "code",
   "execution_count": null,
   "metadata": {
    "colab": {
     "base_uri": "https://localhost:8080/",
     "height": 607
    },
    "id": "EX3voQbufVeG",
    "outputId": "6fc69134-6684-45d3-a2f0-44460d874062"
   },
   "outputs": [],
   "source": [
    "gauss_noise_im = gauss_noise(img, gauss_var=70)\n",
    "plt.figure(figsize=figsize)\n",
    "plt.imshow(gauss_noise_im)\n",
    "plt.title(\"original image + gaussian noise\")\n",
    "plt.show()"
   ]
  },
  {
   "cell_type": "markdown",
   "metadata": {
    "id": "JVC-DACujrWr"
   },
   "source": [
    "**Salt and pepper noise test**"
   ]
  },
  {
   "cell_type": "code",
   "execution_count": null,
   "metadata": {
    "colab": {
     "base_uri": "https://localhost:8080/",
     "height": 607
    },
    "id": "ePuu0epmjx-6",
    "outputId": "20c8f5f8-b8eb-4e69-b8c9-a471a7aa64b8"
   },
   "outputs": [],
   "source": [
    "s_p_noise_im = s_and_p_noise(img, s_p_ratio=0.04)\n",
    "plt.figure(figsize=figsize)\n",
    "plt.imshow(s_p_noise_im)\n",
    "plt.title(\"original image + s&p noise\")\n",
    "plt.show()"
   ]
  },
  {
   "cell_type": "markdown",
   "metadata": {
    "id": "X0hO95cukCXJ"
   },
   "source": [
    "# **Perwitt Edge Detection**"
   ]
  },
  {
   "cell_type": "markdown",
   "metadata": {
    "id": "i-vaoHPLk6iD"
   },
   "source": [
    "**On Original Image**"
   ]
  },
  {
   "cell_type": "code",
   "execution_count": null,
   "metadata": {
    "colab": {
     "base_uri": "https://localhost:8080/",
     "height": 545
    },
    "id": "ncN1Nnk8jyBy",
    "outputId": "f3af7e50-decb-477f-cd3b-a53cb249817b"
   },
   "outputs": [],
   "source": [
    "kernelx = np.array([[1,1,1],[0,0,0],[-1,-1,-1]])\n",
    "kernely = np.array([[-1,0,1],[-1,0,1],[-1,0,1]])\n",
    "img_prewitt = cv2.filter2D(img, -1, kernelx) + cv2.filter2D(img, -1, kernely)\n",
    "plt.imshow(img)\n",
    "plt.title('Original')\n",
    "plt.show()\n",
    "plt.imshow(img_prewitt)\n",
    "plt.title('Prewitt')\n",
    "plt.show()"
   ]
  },
  {
   "cell_type": "markdown",
   "metadata": {
    "id": "YI0HcxFclAmc"
   },
   "source": [
    "**On Gaussian Image**"
   ]
  },
  {
   "cell_type": "code",
   "execution_count": null,
   "metadata": {
    "colab": {
     "base_uri": "https://localhost:8080/",
     "height": 545
    },
    "id": "nw3xp6IjjyEq",
    "outputId": "9946bffc-3a4c-4f83-976b-de650512d0a5"
   },
   "outputs": [],
   "source": [
    "kernelx = np.array([[1,1,1],[0,0,0],[-1,-1,-1]])\n",
    "kernely = np.array([[-1,0,1],[-1,0,1],[-1,0,1]])\n",
    "img_prewitt = cv2.filter2D(gauss_noise_im, -1, kernelx) + cv2.filter2D(gauss_noise_im, -1, kernely)\n",
    "\t\n",
    "plt.imshow(img)\n",
    "plt.title('Gaussian Noice')\n",
    "plt.show()\n",
    "plt.imshow(img_prewitt)\n",
    "plt.title('Prewitt')\n",
    "plt.show()"
   ]
  },
  {
   "cell_type": "markdown",
   "metadata": {
    "id": "_QvNlwjblxcK"
   },
   "source": [
    "**On Salt & Pepper Image**"
   ]
  },
  {
   "cell_type": "code",
   "execution_count": null,
   "metadata": {
    "colab": {
     "base_uri": "https://localhost:8080/",
     "height": 545
    },
    "id": "jjtTTkFFl3BC",
    "outputId": "164cd3f3-ed23-44bb-c2c6-fd58aab0e2cf"
   },
   "outputs": [],
   "source": [
    "kernelx = np.array([[1,1,1],[0,0,0],[-1,-1,-1]])\n",
    "kernely = np.array([[-1,0,1],[-1,0,1],[-1,0,1]])\n",
    "img_prewitt = cv2.filter2D(s_p_noise_im, -1, kernelx) + cv2.filter2D(s_p_noise_im, -1, kernely)\n",
    "\t\n",
    "plt.imshow(img)\n",
    "plt.title('Pepper Noice')\n",
    "plt.show()\n",
    "plt.imshow(img_prewitt)\n",
    "plt.title('Prewitt')\n",
    "plt.show()"
   ]
  },
  {
   "cell_type": "markdown",
   "metadata": {
    "id": "XRgkAFDYryPk"
   },
   "source": [
    "# **Canny Edge Detection**"
   ]
  },
  {
   "cell_type": "markdown",
   "metadata": {
    "id": "sM6aTdhir3qm"
   },
   "source": [
    "**On original image**"
   ]
  },
  {
   "cell_type": "code",
   "execution_count": null,
   "metadata": {
    "colab": {
     "base_uri": "https://localhost:8080/",
     "height": 545
    },
    "id": "J3BHzb-Xl3EC",
    "outputId": "2e20d8bf-3c3f-476d-c406-65ad59d892dc"
   },
   "outputs": [],
   "source": [
    "img_canny = cv2.Canny(img,100,200)\n",
    "plt.imshow(img)\n",
    "plt.title('Original')\n",
    "plt.show()\n",
    "plt.imshow(img_canny)\n",
    "plt.title('Canny')\n",
    "plt.show()"
   ]
  },
  {
   "cell_type": "markdown",
   "metadata": {
    "id": "p1yE2TJusHb1"
   },
   "source": [
    "**On Gaussian image**"
   ]
  },
  {
   "cell_type": "code",
   "execution_count": null,
   "metadata": {
    "colab": {
     "base_uri": "https://localhost:8080/",
     "height": 545
    },
    "id": "63pPYlpJl3Hh",
    "outputId": "22dc6dc0-30e9-495e-9ee3-27aedc34393f"
   },
   "outputs": [],
   "source": [
    "img_canny = cv2.Canny(gauss_noise_im,100,200)\n",
    "plt.imshow(gauss_noise_im)\n",
    "plt.title('Gaussian Noice')\n",
    "plt.show()\n",
    "plt.imshow(img_canny)\n",
    "plt.title('Canny')\n",
    "plt.show()"
   ]
  },
  {
   "cell_type": "markdown",
   "metadata": {
    "id": "1NZUMdMfshyF"
   },
   "source": [
    "**On Salt & Pepper image**"
   ]
  },
  {
   "cell_type": "code",
   "execution_count": null,
   "metadata": {
    "colab": {
     "base_uri": "https://localhost:8080/",
     "height": 545
    },
    "id": "cJoXf8t1l3KH",
    "outputId": "5a5b697e-b786-491c-8af9-a194a1fae85e"
   },
   "outputs": [],
   "source": [
    "img_canny = cv2.Canny(s_p_noise_im,100,200)\n",
    "plt.imshow(s_p_noise_im)\n",
    "plt.title('Pepper Noice')\n",
    "plt.show()\n",
    "plt.imshow(img_canny)\n",
    "plt.title('Canny')\n",
    "plt.show()"
   ]
  },
  {
   "cell_type": "markdown",
   "metadata": {
    "id": "-rLTabdKtKqq"
   },
   "source": [
    "# **Sobel Edge Detection**"
   ]
  },
  {
   "cell_type": "markdown",
   "metadata": {
    "id": "tmTARuOQtQ3f"
   },
   "source": [
    "**On original image**"
   ]
  },
  {
   "cell_type": "code",
   "execution_count": null,
   "metadata": {
    "colab": {
     "base_uri": "https://localhost:8080/",
     "height": 545
    },
    "id": "k5GtOiEUtK1c",
    "outputId": "471a77e0-fb96-4187-887d-2193713e64cb"
   },
   "outputs": [],
   "source": [
    "img_sobelx = cv2.Sobel(img,cv2.CV_8U,1,0,ksize=5)\n",
    "img_sobely = cv2.Sobel(img,cv2.CV_8U,0,1,ksize=5)\n",
    "img_sobel = img_sobelx + img_sobely\n",
    "plt.imshow(img)\n",
    "plt.title('Original')\n",
    "plt.show()\n",
    "plt.imshow(img_sobel)\n",
    "plt.title('Sobel')\n",
    "plt.show()"
   ]
  },
  {
   "cell_type": "markdown",
   "metadata": {
    "id": "BfFAcF3ith-i"
   },
   "source": [
    "**On Gaussian image**"
   ]
  },
  {
   "cell_type": "code",
   "execution_count": null,
   "metadata": {
    "colab": {
     "base_uri": "https://localhost:8080/",
     "height": 545
    },
    "id": "lhQfozS9tK4j",
    "outputId": "448810f2-8d10-4f69-d859-84fff9589f2e"
   },
   "outputs": [],
   "source": [
    "img_sobelx = cv2.Sobel(gauss_noise_im,cv2.CV_8U,1,0,ksize=5)\n",
    "img_sobely = cv2.Sobel(gauss_noise_im,cv2.CV_8U,0,1,ksize=5)\n",
    "img_sobel = img_sobelx + img_sobely\n",
    "plt.imshow(gauss_noise_im)\n",
    "plt.title('Gaussian Noice')\n",
    "plt.show()\n",
    "plt.imshow(img_sobel)\n",
    "plt.title('Sobel')\n",
    "plt.show()"
   ]
  },
  {
   "cell_type": "markdown",
   "metadata": {
    "id": "D2NpaHBUt2e7"
   },
   "source": [
    "**On Salt & Pepper image**"
   ]
  },
  {
   "cell_type": "code",
   "execution_count": null,
   "metadata": {
    "colab": {
     "base_uri": "https://localhost:8080/",
     "height": 545
    },
    "id": "26459QK6tK7v",
    "outputId": "ef66d4e8-658d-44df-a110-92796bb21477"
   },
   "outputs": [],
   "source": [
    "img_sobelx = cv2.Sobel(s_p_noise_im,cv2.CV_8U,1,0,ksize=5)\n",
    "img_sobely = cv2.Sobel(s_p_noise_im,cv2.CV_8U,0,1,ksize=5)\n",
    "img_sobel = img_sobelx + img_sobely\n",
    "plt.imshow(s_p_noise_im)\n",
    "plt.title('Pepper Noice')\n",
    "plt.show()\n",
    "plt.imshow(img_sobel)\n",
    "plt.title('Sobel')\n",
    "plt.show()"
   ]
  },
  {
   "cell_type": "markdown",
   "metadata": {
    "id": "NZXAytK1uSto"
   },
   "source": [
    "# **Robert Edge Detection**"
   ]
  },
  {
   "cell_type": "code",
   "execution_count": null,
   "metadata": {
    "id": "9akjom1fukV4"
   },
   "outputs": [],
   "source": [
    "import sys\n",
    "import numpy as np\n",
    "from scipy import ndimage\n",
    "import matplotlib.pyplot as plt\n",
    "from skimage import io\n",
    "\n",
    "plt.rcParams['figure.figsize'] = [15, 10]\n",
    "roberts_cross_v = np.array( [[ 0, 0, 0 ],\n",
    "                             [ 0, 1, 0 ],\n",
    "                             [ 0, 0,-1 ]] )\n",
    "\n",
    "roberts_cross_h = np.array( [[ 0, 0, 0 ],\n",
    "                             [ 0, 0, 1 ],\n",
    "                             [ 0,-1, 0 ]] )\n"
   ]
  },
  {
   "cell_type": "markdown",
   "metadata": {
    "id": "sy9DWMeHuYDv"
   },
   "source": [
    "**On original image**"
   ]
  },
  {
   "cell_type": "code",
   "execution_count": null,
   "metadata": {
    "colab": {
     "base_uri": "https://localhost:8080/",
     "height": 1000
    },
    "id": "4K-fpzWFuS6W",
    "outputId": "a0fed299-0817-423e-a12d-d535c085d855"
   },
   "outputs": [],
   "source": [
    "img1 = img.astype('float64')\n",
    "gray_img = np.dot(img1[...,:3], [0.2989, 0.5870, 0.1140])\n",
    "gray_img /= 255\n",
    "vertical = ndimage.convolve( gray_img, roberts_cross_v )\n",
    "horizontal = ndimage.convolve( gray_img, roberts_cross_h )\n",
    "edged_img = np.sqrt( np.square(horizontal) + np.square(vertical))\n",
    "plt.title('Original image')\n",
    "plt.imshow(img, cmap=plt.get_cmap('gray'))\n",
    "plt.show()\n",
    "plt.title('Roberts' )\n",
    "plt.imshow(edged_img, cmap=plt.get_cmap('gray'))\n",
    "plt.show()"
   ]
  },
  {
   "cell_type": "markdown",
   "metadata": {
    "id": "_Uz2FJfuvyJd"
   },
   "source": [
    "**on Gaussian image**"
   ]
  },
  {
   "cell_type": "code",
   "execution_count": null,
   "metadata": {
    "colab": {
     "base_uri": "https://localhost:8080/",
     "height": 1000
    },
    "id": "-3vTQoAruS9O",
    "outputId": "e620134b-8930-4e89-bdd1-26fb1728a855"
   },
   "outputs": [],
   "source": [
    "img1 = gauss_noise_im.astype('float64')\n",
    "gray_img = np.dot(img1[...,:3], [0.2989, 0.5870, 0.1140])\n",
    "gray_img /= 255\n",
    "vertical = ndimage.convolve( gray_img, roberts_cross_v )\n",
    "horizontal = ndimage.convolve( gray_img, roberts_cross_h )\n",
    "edged_img = np.sqrt( np.square(horizontal) + np.square(vertical))\n",
    "plt.title('Gaussian_noise')\n",
    "plt.imshow(img, cmap=plt.get_cmap('gray'))\n",
    "plt.show()\n",
    "plt.title('Roberts' )\n",
    "plt.imshow(edged_img, cmap=plt.get_cmap('gray'))\n",
    "plt.show()"
   ]
  },
  {
   "cell_type": "markdown",
   "metadata": {
    "id": "SYsshbLcwB4c"
   },
   "source": [
    "**On Salt & Pepper image**"
   ]
  },
  {
   "cell_type": "code",
   "execution_count": null,
   "metadata": {
    "colab": {
     "base_uri": "https://localhost:8080/",
     "height": 1000
    },
    "id": "AG2OjNqAuTAL",
    "outputId": "5bbe1304-0780-480a-ab22-767ec925a153"
   },
   "outputs": [],
   "source": [
    "img1 = s_p_noise_im.astype('float64')\n",
    "gray_img = np.dot(img1[...,:3], [0.2989, 0.5870, 0.1140])\n",
    "gray_img /= 255\n",
    "vertical = ndimage.convolve( gray_img, roberts_cross_v )\n",
    "horizontal = ndimage.convolve( gray_img, roberts_cross_h )\n",
    "edged_img = np.sqrt( np.square(horizontal) + np.square(vertical))\n",
    "plt.title('Gaussian_noise')\n",
    "plt.imshow(img, cmap=plt.get_cmap('gray'))\n",
    "plt.show()\n",
    "plt.title('Roberts' )\n",
    "plt.imshow(edged_img, cmap=plt.get_cmap('gray'))\n",
    "plt.show()"
   ]
  },
  {
   "cell_type": "markdown",
   "metadata": {
    "id": "PmlED9_IwTtS"
   },
   "source": [
    "# **Laplacian Edge Detection**"
   ]
  },
  {
   "cell_type": "markdown",
   "metadata": {
    "id": "JHjn2jBcwTjz"
   },
   "source": [
    "**On original Image**"
   ]
  },
  {
   "cell_type": "code",
   "execution_count": null,
   "metadata": {
    "colab": {
     "base_uri": "https://localhost:8080/",
     "height": 1000
    },
    "id": "pBxfj17-uTDL",
    "outputId": "77b9f96b-85c4-446e-f552-7c454d2ced4e"
   },
   "outputs": [],
   "source": [
    "laplacian = cv2.Laplacian(img,cv2.CV_64F)\n",
    "\n",
    "plt.imshow(img)\n",
    "plt.title('Original')\n",
    "plt.show()\n",
    "plt.imshow(laplacian)\n",
    "plt.title('Laplacian')\n",
    "plt.show()"
   ]
  },
  {
   "cell_type": "markdown",
   "metadata": {
    "id": "DGSN7Qkrwq3O"
   },
   "source": [
    "**On Gaussian image**"
   ]
  },
  {
   "cell_type": "code",
   "execution_count": null,
   "metadata": {
    "colab": {
     "base_uri": "https://localhost:8080/",
     "height": 1000
    },
    "id": "QsyPmZYewrJl",
    "outputId": "9fce4ff6-bf3e-4de7-c78f-43d1c7f0f4ba"
   },
   "outputs": [],
   "source": [
    "laplacian = cv2.Laplacian(gauss_noise_im,cv2.CV_64F)\n",
    "\n",
    "plt.imshow(gauss_noise_im)\n",
    "plt.title('Gaussian Noice')\n",
    "plt.show()\n",
    "plt.imshow(laplacian)\n",
    "plt.title('Laplacian')\n",
    "plt.show()"
   ]
  },
  {
   "cell_type": "markdown",
   "metadata": {
    "id": "kiuWG3MBw-aV"
   },
   "source": [
    "**On Salt & Pepper image**"
   ]
  },
  {
   "cell_type": "code",
   "execution_count": null,
   "metadata": {
    "colab": {
     "base_uri": "https://localhost:8080/",
     "height": 1000
    },
    "id": "a5dwUqAcwrNV",
    "outputId": "e84bf306-1944-49d4-9006-1fbdb01af872"
   },
   "outputs": [],
   "source": [
    "laplacian = cv2.Laplacian(s_p_noise_im,cv2.CV_64F)\n",
    "\n",
    "plt.imshow(s_p_noise_im)\n",
    "plt.title('Pepper Noice')\n",
    "plt.show()\n",
    "plt.imshow(laplacian)\n",
    "plt.title('Laplacian')\n",
    "plt.show()"
   ]
  },
  {
   "cell_type": "markdown",
   "metadata": {
    "id": "KQ_-ENF4xzZX"
   },
   "source": [
    "*   \n",
    "*   \n",
    "*   \n",
    "*   \n",
    "\n"
   ]
  },
  {
   "cell_type": "markdown",
   "metadata": {
    "id": "uLh2GJogxUf9"
   },
   "source": [
    "CONCLUSION:\n",
    "*   For original image Sobel edge detection worked best.\n",
    "*   For image with Gaussian noise both Perwitt and Sobel edge detections worked good.\n",
    "*   For image with Gaussian noise both Laplacian and Sobel edge detections worked good.\n"
   ]
  }
 ],
 "metadata": {
  "colab": {
   "provenance": []
  },
  "kernelspec": {
   "display_name": "Python 3.11.0 64-bit",
   "language": "python",
   "name": "python3"
  },
  "language_info": {
   "codemirror_mode": {
    "name": "ipython",
    "version": 3
   },
   "file_extension": ".py",
   "mimetype": "text/x-python",
   "name": "python",
   "nbconvert_exporter": "python",
   "pygments_lexer": "ipython3",
   "version": "3.11.0"
  },
  "vscode": {
   "interpreter": {
    "hash": "c261aea317cc0286b3b3261fbba9abdec21eaa57589985bb7a274bf54d6cc0a7"
   }
  }
 },
 "nbformat": 4,
 "nbformat_minor": 0
}
